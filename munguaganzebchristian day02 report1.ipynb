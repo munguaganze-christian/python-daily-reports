{
 "cells": [
  {
   "cell_type": "markdown",
   "id": "27c2ac59-ecab-4c5c-9000-e3e35bf2938c",
   "metadata": {},
   "source": [
    "# Practical_1: Variables and Assignments"
   ]
  },
  {
   "cell_type": "markdown",
   "id": "fe8ba284-34c0-47ab-b19a-8b9c27430fe1",
   "metadata": {},
   "source": [
    "### Exercise 1:\n",
    "Declare a variable `x` and assign it the value `10`.\n",
    "\n",
    "```python\n",
    "# Exercise 1\n",
    "```"
   ]
  },
  {
   "cell_type": "code",
   "execution_count": 1,
   "id": "87ac3194-3a1a-40d8-a002-bfd43c2850ee",
   "metadata": {},
   "outputs": [],
   "source": [
    "# Exercise 1 :\n",
    "\n",
    "x =10"
   ]
  },
  {
   "cell_type": "markdown",
   "id": "e37949f2-8813-4013-b5bc-1b15779682ab",
   "metadata": {},
   "source": [
    "### Exercise 2:\n",
    "Assign the value `True` to a variable called `is_valid`.\n"
   ]
  },
  {
   "cell_type": "code",
   "execution_count": 3,
   "id": "cb064282-4ce6-48c5-bc22-2e8afdaba7bb",
   "metadata": {},
   "outputs": [],
   "source": [
    "is_valid = True"
   ]
  },
  {
   "cell_type": "markdown",
   "id": "b5ed13b2-cf4d-4125-bc49-7156e1af803d",
   "metadata": {},
   "source": [
    "### Exercise 3:\n",
    "Create a string variable name with the value \"Python Programming\"."
   ]
  },
  {
   "cell_type": "code",
   "execution_count": 4,
   "id": "1fd766c2-2d1b-4b64-8dcd-e5641edeb5aa",
   "metadata": {},
   "outputs": [],
   "source": [
    "my_var = \"Python Programming\""
   ]
  },
  {
   "cell_type": "markdown",
   "id": "e0af2e31-4689-499e-b60a-cf244492e66f",
   "metadata": {},
   "source": [
    "### Exercise 4:\n",
    "Assign the result of 5 + 3 to a variable sum_result."
   ]
  },
  {
   "cell_type": "code",
   "execution_count": 5,
   "id": "2b53bc98-0c0f-4073-9a9b-5b17f229be7c",
   "metadata": {},
   "outputs": [],
   "source": [
    "sum_result = 5+3"
   ]
  },
  {
   "cell_type": "markdown",
   "id": "c1a0a1fa-be45-4665-8402-07aba3471d9e",
   "metadata": {},
   "source": [
    "### Exercise 5:\n",
    "Assign multiple variables in one line: `a = 5`, `b = 10`, `c = 15`."
   ]
  },
  {
   "cell_type": "code",
   "execution_count": 7,
   "id": "6a66a520-e39b-4644-aa73-1717bdfce3f1",
   "metadata": {},
   "outputs": [],
   "source": [
    "a , b, c =5,10,15"
   ]
  },
  {
   "cell_type": "code",
   "execution_count": 8,
   "id": "bdc42320-46a7-4f83-9cf6-a4833fefc269",
   "metadata": {},
   "outputs": [
    {
     "data": {
      "text/plain": [
       "5"
      ]
     },
     "execution_count": 8,
     "metadata": {},
     "output_type": "execute_result"
    }
   ],
   "source": [
    "a"
   ]
  },
  {
   "cell_type": "code",
   "execution_count": 9,
   "id": "4510effc-ed82-4b1d-b6ba-8fedc8041e93",
   "metadata": {},
   "outputs": [
    {
     "data": {
      "text/plain": [
       "10"
      ]
     },
     "execution_count": 9,
     "metadata": {},
     "output_type": "execute_result"
    }
   ],
   "source": [
    "b"
   ]
  },
  {
   "cell_type": "code",
   "execution_count": 10,
   "id": "e6531016-61f5-4b81-8e55-00e4fda474de",
   "metadata": {},
   "outputs": [
    {
     "data": {
      "text/plain": [
       "15"
      ]
     },
     "execution_count": 10,
     "metadata": {},
     "output_type": "execute_result"
    }
   ],
   "source": [
    "c"
   ]
  },
  {
   "cell_type": "markdown",
   "id": "1aebb2bb-b28d-498c-9a2e-222086a98a31",
   "metadata": {},
   "source": [
    "\n",
    "---\n",
    "\n",
    "### Exercise 6:\n",
    "Assign the value of one variable `x` to another variable `y`.\n",
    "\n",
    "```python\n",
    "# Exercise 6"
   ]
  },
  {
   "cell_type": "code",
   "execution_count": 11,
   "id": "6fd58c95-4849-4eb2-adbf-bb89260d47de",
   "metadata": {},
   "outputs": [
    {
     "data": {
      "text/plain": [
       "1"
      ]
     },
     "execution_count": 11,
     "metadata": {},
     "output_type": "execute_result"
    }
   ],
   "source": [
    "x= 1\n",
    "y = 3\n",
    "\n",
    "y = x\n",
    "\n",
    "y"
   ]
  },
  {
   "cell_type": "markdown",
   "id": "a95de391-5098-406b-ad3e-b090551486b3",
   "metadata": {},
   "source": [
    "### Exercise 7:\n",
    "Assign a floating-point number `9.8` to a variable `gravity`.\n",
    "\n",
    "```python\n",
    "# Exercise "
   ]
  },
  {
   "cell_type": "code",
   "execution_count": 12,
   "id": "f8b947ad-1d75-484d-8a7e-b2cad54370a7",
   "metadata": {},
   "outputs": [],
   "source": [
    "gravity = 9.8"
   ]
  },
  {
   "cell_type": "markdown",
   "id": "e8c41dd1-6b36-4eae-95e7-2222f2d6c3bb",
   "metadata": {},
   "source": [
    "\n",
    "### Exercise 8:\n",
    "Create a variable `country` and assign it the string value of your favorite country.\n",
    "\n",
    "```python\n",
    "# Exercise 8"
   ]
  },
  {
   "cell_type": "code",
   "execution_count": 13,
   "id": "884fa7c2-b0ed-4778-9f2e-0a8348739134",
   "metadata": {},
   "outputs": [],
   "source": [
    "country = \"Republic Democratic of Congo\""
   ]
  },
  {
   "cell_type": "markdown",
   "id": "d14cf467-98b0-4d28-b315-3df80e8f5e8c",
   "metadata": {},
   "source": [
    "### Exercise 9:\n",
    "Change the value of variable `age` from `25` to `26` in two separate steps.\n",
    "\n",
    "```python\n",
    "# Exercise 9\n",
    "```"
   ]
  },
  {
   "cell_type": "code",
   "execution_count": 15,
   "id": "fedfddb7-ff12-43e9-87c1-4c5514c18a47",
   "metadata": {},
   "outputs": [],
   "source": [
    "age =25"
   ]
  },
  {
   "cell_type": "code",
   "execution_count": 16,
   "id": "3468eefe-9f1e-4a51-b23f-cff1eb9a79ce",
   "metadata": {},
   "outputs": [],
   "source": [
    "age = 26"
   ]
  },
  {
   "cell_type": "code",
   "execution_count": 17,
   "id": "5106523e-a5a8-4957-80bf-b46db2212bcc",
   "metadata": {},
   "outputs": [
    {
     "data": {
      "text/plain": [
       "26"
      ]
     },
     "execution_count": 17,
     "metadata": {},
     "output_type": "execute_result"
    }
   ],
   "source": [
    "age"
   ]
  },
  {
   "cell_type": "markdown",
   "id": "990e14b5-395e-494d-9dde-27323a41c789",
   "metadata": {},
   "source": [
    "---\n",
    "\n",
    "### Exercise 10:\n",
    "Use one variable to store the result of subtracting two numbers `20 - 7`.\n",
    "\n",
    "```python\n",
    "# Exercise 10\n",
    "```\n",
    "\n",
    "---"
   ]
  },
  {
   "cell_type": "code",
   "execution_count": 21,
   "id": "894a100c-7b5a-4080-a6b6-3df0129053d7",
   "metadata": {},
   "outputs": [],
   "source": [
    "one_var = 20-7"
   ]
  },
  {
   "cell_type": "code",
   "execution_count": 22,
   "id": "41a047a1-7d7c-46d2-b0e8-d946d6a0bf01",
   "metadata": {},
   "outputs": [
    {
     "data": {
      "text/plain": [
       "13"
      ]
     },
     "execution_count": 22,
     "metadata": {},
     "output_type": "execute_result"
    }
   ],
   "source": [
    "one_var"
   ]
  },
  {
   "cell_type": "markdown",
   "id": "6332a136-8847-48b9-aab9-659396a0ddfa",
   "metadata": {},
   "source": [
    "---\n",
    "\n",
    "### Exercise 11:\n",
    "Assign an integer value and a floating-point value to two different variables.\n",
    "\n",
    "```python\n",
    "# Exercise 11\n",
    "```\n",
    "\n",
    "---"
   ]
  },
  {
   "cell_type": "code",
   "execution_count": 23,
   "id": "fdf00018-a5fe-407a-9b15-d2b22eb92724",
   "metadata": {},
   "outputs": [],
   "source": [
    "age = 34\n",
    "height = 1.68"
   ]
  },
  {
   "cell_type": "markdown",
   "id": "ace32cd4-e920-42a3-83c2-0668511110db",
   "metadata": {},
   "source": [
    "---\n",
    "\n",
    "### Exercise 12:\n",
    "Assign a boolean value `False` to a variable `is_completed`.\n",
    "\n",
    "```python\n",
    "# Exercise 12\n",
    "```\n",
    "\n",
    "---"
   ]
  },
  {
   "cell_type": "code",
   "execution_count": 24,
   "id": "0b686ad8-5bc4-46f3-9c53-0fef3a7c11c5",
   "metadata": {},
   "outputs": [],
   "source": [
    "is_completed = False"
   ]
  },
  {
   "cell_type": "markdown",
   "id": "868259ca-a53f-41a5-b26a-97fbe4b47f9b",
   "metadata": {},
   "source": [
    "### Exercise 13:\n",
    "Swap the values of two variables `x` and `y`.\n",
    "\n",
    "```python\n",
    "# Exercise 13\n",
    "```\n",
    "\n",
    "---"
   ]
  },
  {
   "cell_type": "code",
   "execution_count": 30,
   "id": "a3b787c8-c377-41a5-927f-f2bd6bf6ae82",
   "metadata": {},
   "outputs": [],
   "source": [
    "x,y = 25,42"
   ]
  },
  {
   "cell_type": "code",
   "execution_count": 36,
   "id": "23ea70ad-4a16-4cdc-9379-09f36e8898a4",
   "metadata": {},
   "outputs": [
    {
     "name": "stdout",
     "output_type": "stream",
     "text": [
      "x = 42 ; y= 25\n"
     ]
    }
   ],
   "source": [
    "print(\"x =\",x,\"; y=\",y)"
   ]
  },
  {
   "cell_type": "code",
   "execution_count": 33,
   "id": "98feecc7-fba4-4041-9e86-fe826a17dde3",
   "metadata": {},
   "outputs": [],
   "source": [
    "temp = x\n",
    "x=y\n",
    "y=temp"
   ]
  },
  {
   "cell_type": "code",
   "execution_count": 37,
   "id": "0a704cb7-3bad-4cd5-9d3f-7915e3bb3101",
   "metadata": {},
   "outputs": [
    {
     "name": "stdout",
     "output_type": "stream",
     "text": [
      "x = 42 ; y= 25\n"
     ]
    }
   ],
   "source": [
    "print(\"x =\",x,\"; y=\",y)"
   ]
  },
  {
   "cell_type": "markdown",
   "id": "d4ee3ea4-4ec0-4f46-bf15-4b6a7d0d5459",
   "metadata": {},
   "source": [
    "### Exercise 14:\n",
    "Assign a complex number `3 + 4j` to a variable `complex_num`.\n",
    "\n",
    "```python\n",
    "# Exercise 14\n",
    "```\n",
    "\n",
    "---"
   ]
  },
  {
   "cell_type": "code",
   "execution_count": 38,
   "id": "8cb714c4-7f98-47f9-83aa-75f69a96ae35",
   "metadata": {},
   "outputs": [],
   "source": [
    "complex_num = 3+4j"
   ]
  },
  {
   "cell_type": "markdown",
   "id": "861a9aff-48fd-40d3-acfb-d32889bf724a",
   "metadata": {},
   "source": [
    "### Exercise 15:\n",
    "Reassign a variable from an integer to a string.\n",
    "\n",
    "```python\n",
    "# Exercise 15\n",
    "```\n",
    "\n",
    "---"
   ]
  },
  {
   "cell_type": "code",
   "execution_count": 39,
   "id": "37f27564-d919-402a-a5a6-20689419e8c6",
   "metadata": {},
   "outputs": [],
   "source": [
    "my_str = str(15)"
   ]
  },
  {
   "cell_type": "code",
   "execution_count": 43,
   "id": "2c383740-062c-43f3-a4c4-3a6b93fff96a",
   "metadata": {},
   "outputs": [
    {
     "data": {
      "text/plain": [
       "str"
      ]
     },
     "execution_count": 43,
     "metadata": {},
     "output_type": "execute_result"
    }
   ],
   "source": [
    "type(my_str)"
   ]
  },
  {
   "cell_type": "markdown",
   "id": "a99044d3-4427-4138-aa37-017fda406d56",
   "metadata": {},
   "source": [
    "### Exercise 16:\n",
    "Create two variables `first_name` and `last_name`, and assign them your first and last names.\n",
    "\n",
    "```python\n",
    "# Exercise 16\n",
    "```\n",
    "\n",
    "---"
   ]
  },
  {
   "cell_type": "code",
   "execution_count": 44,
   "id": "0726aab1-bf8f-4d9c-b025-7ea4a244a932",
   "metadata": {},
   "outputs": [],
   "source": [
    "first_name = \"Christian\"\n",
    "last_name = \"Munguaganze\""
   ]
  },
  {
   "cell_type": "markdown",
   "id": "e6a9f5f2-1203-41dd-a31a-1eb9e07f0d0b",
   "metadata": {},
   "source": [
    "### Exercise 17:\n",
    "Create a variable `temperature` and assign it the value of `35.5`.\n",
    "\n",
    "```python\n",
    "# Exercise 17\n",
    "```\n",
    "\n",
    "---"
   ]
  },
  {
   "cell_type": "code",
   "execution_count": 45,
   "id": "3e8e8e4b-2eda-41dc-a32f-c84c72d0fa26",
   "metadata": {},
   "outputs": [],
   "source": [
    "temperature = 35.5"
   ]
  },
  {
   "cell_type": "markdown",
   "id": "1baf427d-77ed-4f3f-841d-c48b81a028ca",
   "metadata": {},
   "source": [
    "### Exercise 18:\n",
    "Assign the result of the multiplication of two numbers `8 * 6` to a variable `product`.\n",
    "\n",
    "```python\n",
    "# Exercise 18\n",
    "```\n",
    "\n",
    "---"
   ]
  },
  {
   "cell_type": "code",
   "execution_count": 46,
   "id": "d0e7a72c-eb38-410c-b607-3111ab157e2e",
   "metadata": {},
   "outputs": [],
   "source": [
    "product = 8*6"
   ]
  },
  {
   "cell_type": "code",
   "execution_count": 47,
   "id": "92fa4b50-1092-4a4a-a8f0-3a62f0dcc22b",
   "metadata": {},
   "outputs": [
    {
     "data": {
      "text/plain": [
       "48"
      ]
     },
     "execution_count": 47,
     "metadata": {},
     "output_type": "execute_result"
    }
   ],
   "source": [
    "product"
   ]
  },
  {
   "cell_type": "markdown",
   "id": "80b57759-6950-4618-8861-91a47b8c6839",
   "metadata": {},
   "source": [
    "### Exercise 19:\n",
    "Assign a sentence of your choice to a variable `sentence`.\n",
    "\n",
    "```python\n",
    "# Exercise 19\n",
    "```\n",
    "\n",
    "---"
   ]
  },
  {
   "cell_type": "code",
   "execution_count": 49,
   "id": "ca59b40b-348c-49d8-83f0-7b2ff135740f",
   "metadata": {},
   "outputs": [],
   "source": [
    "sentence = \"In God we trust\""
   ]
  },
  {
   "cell_type": "markdown",
   "id": "90e4bf51-f235-4a43-b0eb-ff3d1c87be31",
   "metadata": {},
   "source": [
    "### Exercise 20:\n",
    "Use an assignment to convert a string `'50'` into an integer variable `int_value`.\n",
    "\n",
    "```python\n",
    "# Exercise 20\n",
    "```\n",
    "\n",
    "---"
   ]
  },
  {
   "cell_type": "code",
   "execution_count": 50,
   "id": "ed32f367-cba6-476a-a22a-1772f0f0adfc",
   "metadata": {},
   "outputs": [],
   "source": [
    "int_value = int('50')"
   ]
  },
  {
   "cell_type": "code",
   "execution_count": 51,
   "id": "b45aa469-9c3e-4b83-b92f-39d15ba3e571",
   "metadata": {},
   "outputs": [
    {
     "data": {
      "text/plain": [
       "50"
      ]
     },
     "execution_count": 51,
     "metadata": {},
     "output_type": "execute_result"
    }
   ],
   "source": [
    "int_value"
   ]
  },
  {
   "cell_type": "code",
   "execution_count": 52,
   "id": "9bdcbfac-55c7-4645-8300-e84f77a975f8",
   "metadata": {},
   "outputs": [
    {
     "data": {
      "text/plain": [
       "int"
      ]
     },
     "execution_count": 52,
     "metadata": {},
     "output_type": "execute_result"
    }
   ],
   "source": [
    "type(int_value)"
   ]
  },
  {
   "cell_type": "markdown",
   "id": "dce55957-1a71-4b76-8765-77ef18a3ce1f",
   "metadata": {},
   "source": [
    "### Exercise 21:\n",
    "Assign the result of dividing `144` by `12` to a variable `quotient`.\n",
    "\n",
    "```python\n",
    "# Exercise 21\n",
    "```\n",
    "\n",
    "---"
   ]
  },
  {
   "cell_type": "code",
   "execution_count": 53,
   "id": "ed1f7ed6-d701-4a6d-a117-8a675d1a2b0a",
   "metadata": {},
   "outputs": [],
   "source": [
    "quotient = 144/12"
   ]
  },
  {
   "cell_type": "code",
   "execution_count": 54,
   "id": "c56b6552-3081-4437-a7bb-71a211ad7800",
   "metadata": {},
   "outputs": [
    {
     "data": {
      "text/plain": [
       "12.0"
      ]
     },
     "execution_count": 54,
     "metadata": {},
     "output_type": "execute_result"
    }
   ],
   "source": [
    "quotient"
   ]
  },
  {
   "cell_type": "markdown",
   "id": "06b91dfe-0501-402d-8b21-13675ab2b46c",
   "metadata": {},
   "source": [
    "### Exercise 22:\n",
    "Assign the remainder of `47 divided by 5` to a variable `remainder`.\n",
    "\n",
    "```python\n",
    "# Exercise 22\n",
    "```\n",
    "\n",
    "---"
   ]
  },
  {
   "cell_type": "code",
   "execution_count": 55,
   "id": "8c4605c5-d483-41fc-ab12-2a107af4957a",
   "metadata": {},
   "outputs": [],
   "source": [
    "remainder = 47%5"
   ]
  },
  {
   "cell_type": "code",
   "execution_count": 56,
   "id": "f15567c0-870d-4777-b820-54dbf7f2774e",
   "metadata": {},
   "outputs": [
    {
     "data": {
      "text/plain": [
       "2"
      ]
     },
     "execution_count": 56,
     "metadata": {},
     "output_type": "execute_result"
    }
   ],
   "source": [
    "remainder"
   ]
  },
  {
   "cell_type": "markdown",
   "id": "a8432831-6948-4209-ae5e-684d30b16ff7",
   "metadata": {},
   "source": [
    "\n",
    "### Exercise 23:\n",
    "Create a variable `is_student` and assign it the value `True`.\n",
    "\n",
    "```python\n",
    "# Exercise 23\n",
    "```\n",
    "\n",
    "---"
   ]
  },
  {
   "cell_type": "code",
   "execution_count": 57,
   "id": "ab2dcaca-a750-4708-b1c7-1e3d4c20b91a",
   "metadata": {},
   "outputs": [],
   "source": [
    "is_student = True"
   ]
  },
  {
   "cell_type": "code",
   "execution_count": 58,
   "id": "86e8d5b6-37fb-4110-8fd2-57e42c6c4c70",
   "metadata": {},
   "outputs": [
    {
     "data": {
      "text/plain": [
       "True"
      ]
     },
     "execution_count": 58,
     "metadata": {},
     "output_type": "execute_result"
    }
   ],
   "source": [
    "is_student"
   ]
  },
  {
   "cell_type": "markdown",
   "id": "7f2fe49f-4ad4-4098-a117-439c4cffa4e1",
   "metadata": {},
   "source": [
    "### Exercise 24:\n",
    "Use a variable to store the result of a modulo operation: `45 % 4`.\n",
    "\n",
    "```python\n",
    "# Exercise 24\n",
    "```\n",
    "\n",
    "---"
   ]
  },
  {
   "cell_type": "code",
   "execution_count": 59,
   "id": "2cb4c80d-53cc-4625-acc6-46c6e27acf78",
   "metadata": {},
   "outputs": [],
   "source": [
    "reste = 45%4"
   ]
  },
  {
   "cell_type": "code",
   "execution_count": 60,
   "id": "0263e34b-eeb9-417e-a0c3-6f916dcad9fb",
   "metadata": {},
   "outputs": [
    {
     "data": {
      "text/plain": [
       "1"
      ]
     },
     "execution_count": 60,
     "metadata": {},
     "output_type": "execute_result"
    }
   ],
   "source": [
    "reste"
   ]
  },
  {
   "cell_type": "markdown",
   "id": "9a3ad141-2eb8-432e-8e9f-c9676fe7ad63",
   "metadata": {},
   "source": [
    "### Exercise 25:\n",
    "Create a variable `pi` and assign it the value `3.14159`.\n",
    "\n",
    "```python\n",
    "# Exercise 25\n",
    "```\n",
    "\n",
    "---"
   ]
  },
  {
   "cell_type": "code",
   "execution_count": 61,
   "id": "2f12e625-f394-418b-bb29-a3a0f6c716ed",
   "metadata": {},
   "outputs": [],
   "source": [
    "pi = 3.14159"
   ]
  },
  {
   "cell_type": "code",
   "execution_count": 62,
   "id": "dda95615-26f2-443f-a497-bb70d7cf6c76",
   "metadata": {},
   "outputs": [
    {
     "data": {
      "text/plain": [
       "3.14159"
      ]
     },
     "execution_count": 62,
     "metadata": {},
     "output_type": "execute_result"
    }
   ],
   "source": [
    "pi"
   ]
  },
  {
   "cell_type": "markdown",
   "id": "c11e1f91-80d9-40c9-a313-683fa8b92cfc",
   "metadata": {},
   "source": [
    "### Exercise 26:\n",
    "Create two variables `length` and `width`, assign them values, and calculate the area of a rectangle.\n",
    "\n",
    "```python\n",
    "# Exercise 26\n",
    "```\n",
    "\n",
    "---"
   ]
  },
  {
   "cell_type": "code",
   "execution_count": 75,
   "id": "ad6d165f-a4bc-4317-9fb1-46011515065f",
   "metadata": {},
   "outputs": [],
   "source": [
    "length = 24\n",
    "width = 15"
   ]
  },
  {
   "cell_type": "code",
   "execution_count": 77,
   "id": "38ac37a5-76ae-4369-94f4-105ef139b131",
   "metadata": {},
   "outputs": [],
   "source": [
    "rect_area = length * width"
   ]
  },
  {
   "cell_type": "markdown",
   "id": "22f98819-0d26-4612-8443-4fe45edab016",
   "metadata": {},
   "source": [
    "### Exercise 27:\n",
    "Assign a negative number to a variable `negative_value`.\n",
    "\n",
    "```python\n",
    "# Exercise 27\n",
    "```\n",
    "\n",
    "---"
   ]
  },
  {
   "cell_type": "code",
   "execution_count": 78,
   "id": "29132e70-c234-4d7b-91bb-48f35b00428a",
   "metadata": {},
   "outputs": [],
   "source": [
    "negative_number = -14"
   ]
  },
  {
   "cell_type": "code",
   "execution_count": 79,
   "id": "e8735062-007e-4638-9b77-c76315574575",
   "metadata": {},
   "outputs": [
    {
     "data": {
      "text/plain": [
       "-14"
      ]
     },
     "execution_count": 79,
     "metadata": {},
     "output_type": "execute_result"
    }
   ],
   "source": [
    "negative_number"
   ]
  },
  {
   "cell_type": "markdown",
   "id": "01cec18e-fae1-417f-ad6b-6d7bcd32a63c",
   "metadata": {},
   "source": [
    "### Exercise 28:\n",
    "Assign a string containing a special character (e.g., \"Hello, World!\") to a variable `greeting`.\n",
    "\n",
    "```python\n",
    "# Exercise 28\n",
    "```"
   ]
  },
  {
   "cell_type": "code",
   "execution_count": 80,
   "id": "21641233-c421-467d-9d3d-b59dcc16319a",
   "metadata": {},
   "outputs": [],
   "source": [
    "greting = \"Hello, Every one!\""
   ]
  },
  {
   "cell_type": "markdown",
   "id": "06c864ef-4580-4004-9690-ab16a33c9206",
   "metadata": {},
   "source": [
    "### Exercise 29:\n",
    "Create a variable `population` and assign it a large integer value (in billions).\n",
    "\n",
    "```python\n",
    "# Exercise 29\n",
    "```\n",
    "\n",
    "---"
   ]
  },
  {
   "cell_type": "code",
   "execution_count": 82,
   "id": "ad4b92e3-e172-4e3d-844b-18dd1935bfd5",
   "metadata": {},
   "outputs": [],
   "source": [
    "population = 12567890000"
   ]
  },
  {
   "cell_type": "markdown",
   "id": "c08b5081-f9c3-44ab-b1c6-9ddec08eda07",
   "metadata": {},
   "source": [
    "\n",
    "### Exercise 30:\n",
    "Use a variable to store the result of raising `2` to the power of `8`.\n",
    "\n",
    "```python\n",
    "# Exercise 30\n",
    "```\n",
    "\n",
    "---"
   ]
  },
  {
   "cell_type": "code",
   "execution_count": 83,
   "id": "da80a537-0841-41c2-a411-a9f101543b72",
   "metadata": {},
   "outputs": [],
   "source": [
    "two_powe_eigth = 2**8"
   ]
  },
  {
   "cell_type": "code",
   "execution_count": 84,
   "id": "f77a0235-0279-4383-afdc-dac80f3e449d",
   "metadata": {},
   "outputs": [
    {
     "data": {
      "text/plain": [
       "256"
      ]
     },
     "execution_count": 84,
     "metadata": {},
     "output_type": "execute_result"
    }
   ],
   "source": [
    "two_powe_eigth"
   ]
  },
  {
   "cell_type": "markdown",
   "id": "98d8e3ce-630f-4d76-a985-10ebf974bf30",
   "metadata": {},
   "source": [
    "### Exercise 31:\n",
    "Assign a list of your favorite fruits to a variable `fruits`.\n",
    "\n",
    "```python\n",
    "# Exercise 31\n",
    "```\n",
    "\n",
    "---"
   ]
  },
  {
   "cell_type": "code",
   "execution_count": 86,
   "id": "7a1f79d9-3755-4515-b02e-a76b3b691396",
   "metadata": {},
   "outputs": [],
   "source": [
    "fruits = [\"bananaa\", \"mango\",\"orange\", \"apple\"]"
   ]
  },
  {
   "cell_type": "code",
   "execution_count": 87,
   "id": "5fcaedc2-6424-4d92-a062-521eb407c5e2",
   "metadata": {},
   "outputs": [
    {
     "data": {
      "text/plain": [
       "['bananaa', 'mango', 'orange', 'apple']"
      ]
     },
     "execution_count": 87,
     "metadata": {},
     "output_type": "execute_result"
    }
   ],
   "source": [
    "fruits"
   ]
  },
  {
   "cell_type": "markdown",
   "id": "e4bcfbd5-32ea-4f8a-be49-57813b9dd334",
   "metadata": {},
   "source": [
    "### Exercise 32:\n",
    "Assign a tuple of three numbers to a variable `coordinates`.\n",
    "\n",
    "```python\n",
    "# Exercise 32\n",
    "```\n",
    "\n",
    "---"
   ]
  },
  {
   "cell_type": "code",
   "execution_count": 88,
   "id": "0cde3e8c-bc57-4c72-8a34-82983822c72a",
   "metadata": {},
   "outputs": [],
   "source": [
    "coordinates = (256,153,15)"
   ]
  },
  {
   "cell_type": "markdown",
   "id": "5e16c08a-51fa-4693-849b-c517412c77da",
   "metadata": {},
   "source": [
    "### Exercise 33:\n",
    "Assign a dictionary with keys `name` and `age` to a variable `person`.\n",
    "\n",
    "```python\n",
    "# Exercise 33\n",
    "```\n",
    "\n",
    "---"
   ]
  },
  {
   "cell_type": "code",
   "execution_count": 89,
   "id": "21bc1389-f7fc-4bb6-9c07-2cb353afef9b",
   "metadata": {},
   "outputs": [],
   "source": [
    "person = {\"name\":\"Munguaganze\", \"age\" : 36}"
   ]
  },
  {
   "cell_type": "code",
   "execution_count": 90,
   "id": "5ea8a83f-d3f0-42fd-961f-cab623022898",
   "metadata": {},
   "outputs": [
    {
     "data": {
      "text/plain": [
       "{'name': 'Munguaganze', 'age': 36}"
      ]
     },
     "execution_count": 90,
     "metadata": {},
     "output_type": "execute_result"
    }
   ],
   "source": [
    "person"
   ]
  },
  {
   "cell_type": "markdown",
   "id": "16754ce8-46fa-4ecf-a44a-f7656fc15e54",
   "metadata": {},
   "source": [
    "### Exercise 34:\n",
    "Use variables to store the sum of two floating-point numbers.\n",
    "\n",
    "```python\n",
    "# Exercise 34\n",
    "```\n",
    "\n",
    "---"
   ]
  },
  {
   "cell_type": "code",
   "execution_count": 91,
   "id": "f43decfa-932b-4b19-99a3-570e6a40eae5",
   "metadata": {},
   "outputs": [],
   "source": [
    "summ_of = 23.5+14.6"
   ]
  },
  {
   "cell_type": "code",
   "execution_count": 92,
   "id": "f1af4e1b-e48d-4136-868d-6981d7592c54",
   "metadata": {},
   "outputs": [
    {
     "data": {
      "text/plain": [
       "38.1"
      ]
     },
     "execution_count": 92,
     "metadata": {},
     "output_type": "execute_result"
    }
   ],
   "source": [
    "summ_of"
   ]
  },
  {
   "cell_type": "markdown",
   "id": "c5754dfb-bdc5-4a76-ba3f-c547a51c5ad0",
   "metadata": {},
   "source": [
    "\n",
    "### Exercise 35:\n",
    "Create a variable `is_sunny` and assign it the result of a comparison `10 > 5`.\n",
    "\n",
    "```python\n",
    "# Exercise 35\n",
    "```\n",
    "\n",
    "---"
   ]
  },
  {
   "cell_type": "code",
   "execution_count": 96,
   "id": "76e3bcc8-ea1b-44e5-b3d9-a968eb3429d4",
   "metadata": {},
   "outputs": [],
   "source": [
    "is_sunny = (10>5)"
   ]
  },
  {
   "cell_type": "code",
   "execution_count": 97,
   "id": "bea4e392-c0b1-45b4-9994-12737db121ad",
   "metadata": {},
   "outputs": [
    {
     "data": {
      "text/plain": [
       "True"
      ]
     },
     "execution_count": 97,
     "metadata": {},
     "output_type": "execute_result"
    }
   ],
   "source": [
    "is_sunny"
   ]
  },
  {
   "cell_type": "markdown",
   "id": "cf9ef093-0a32-4fda-b6bb-c91a430676e9",
   "metadata": {},
   "source": [
    "### Exercise 36:\n",
    "Assign a string and an integer to two different variables, then print both on one line.\n",
    "\n",
    "```python\n",
    "# Exercise 36\n",
    "```\n",
    "\n",
    "---"
   ]
  },
  {
   "cell_type": "code",
   "execution_count": 98,
   "id": "1f337771-071f-46bc-b779-d44c80b3b4d0",
   "metadata": {},
   "outputs": [],
   "source": [
    "var1 = \"hello\"\n",
    "var2 = 12"
   ]
  },
  {
   "cell_type": "code",
   "execution_count": 99,
   "id": "494bbbba-827c-4a63-b603-5586d4053d8c",
   "metadata": {},
   "outputs": [
    {
     "name": "stdout",
     "output_type": "stream",
     "text": [
      "hello 12\n"
     ]
    }
   ],
   "source": [
    "print(var1, var2)"
   ]
  },
  {
   "cell_type": "code",
   "execution_count": 101,
   "id": "c49e823f-16df-4702-9c34-0e100a6a548a",
   "metadata": {},
   "outputs": [
    {
     "data": {
      "text/plain": [
       "('hello', 12)"
      ]
     },
     "execution_count": 101,
     "metadata": {},
     "output_type": "execute_result"
    }
   ],
   "source": [
    "var1, var2"
   ]
  },
  {
   "cell_type": "markdown",
   "id": "2af0c292-fd2a-4173-8acd-b9af2feff6be",
   "metadata": {},
   "source": [
    "### Exercise 37:\n",
    "Reassign a variable that originally held a number to a boolean value.\n",
    "\n",
    "```python\n",
    "# Exercise 37\n",
    "```\n",
    "\n",
    "---"
   ]
  },
  {
   "cell_type": "code",
   "execution_count": null,
   "id": "4b73152f-69de-40ba-8870-96f3c13346c1",
   "metadata": {},
   "outputs": [],
   "source": [
    "my_var = 15\n",
    "\n",
    "my_var = True"
   ]
  },
  {
   "cell_type": "markdown",
   "id": "01b54f2d-96c2-489e-b803-a1b41ca28a64",
   "metadata": {},
   "source": [
    "### Exercise 38:\n",
    "Create a variable `is_weekend` and assign it the result of `False`.\n",
    "\n",
    "```python\n",
    "# Exercise 38\n",
    "```\n",
    "\n",
    "---"
   ]
  },
  {
   "cell_type": "code",
   "execution_count": 103,
   "id": "64ec3308-7bde-4249-81b2-394d1ce21bf7",
   "metadata": {},
   "outputs": [],
   "source": [
    "is_weekend = False\n"
   ]
  },
  {
   "cell_type": "markdown",
   "id": "c9c06dca-19fe-44e1-be8a-6717c4a4eae6",
   "metadata": {},
   "source": [
    "### Exercise 39:\n",
    "Assign a multi-line string to a variable `description`.\n",
    "\n",
    "```python\n",
    "# Exercise 39\n",
    "```\n",
    "\n",
    "---"
   ]
  },
  {
   "cell_type": "code",
   "execution_count": 104,
   "id": "7659663a-335b-432f-b0d6-a39baace852c",
   "metadata": {},
   "outputs": [],
   "source": [
    "description = '''Please\n",
    "submit your wotk\n",
    "on time'''"
   ]
  },
  {
   "cell_type": "code",
   "execution_count": 105,
   "id": "2822c54c-4ab6-455d-818c-be893a437081",
   "metadata": {},
   "outputs": [
    {
     "data": {
      "text/plain": [
       "'Please\\nsubmit your wotk\\non time'"
      ]
     },
     "execution_count": 105,
     "metadata": {},
     "output_type": "execute_result"
    }
   ],
   "source": [
    "description"
   ]
  },
  {
   "cell_type": "code",
   "execution_count": 106,
   "id": "e52da62e-526d-4a49-850f-f72fdabd4d4c",
   "metadata": {},
   "outputs": [
    {
     "name": "stdout",
     "output_type": "stream",
     "text": [
      "Please\n",
      "submit your wotk\n",
      "on time\n"
     ]
    }
   ],
   "source": [
    "print(description)"
   ]
  },
  {
   "cell_type": "markdown",
   "id": "f05f40a5-1aa8-4534-94b7-c81dff7003ea",
   "metadata": {},
   "source": [
    "### Exercise 40:\n",
    "Use variables to store the result of the absolute value of `-25`.\n",
    "\n",
    "```python\n",
    "# Exercise 40\n",
    "```\n",
    "\n",
    "---"
   ]
  },
  {
   "cell_type": "code",
   "execution_count": 107,
   "id": "26368efb-32a0-4ff0-9d0e-390b1fc26ecc",
   "metadata": {},
   "outputs": [],
   "source": [
    "abs_value = abs(-25)"
   ]
  },
  {
   "cell_type": "code",
   "execution_count": 108,
   "id": "aa535831-e18a-4e0e-8b03-8c715b8e553f",
   "metadata": {},
   "outputs": [
    {
     "data": {
      "text/plain": [
       "25"
      ]
     },
     "execution_count": 108,
     "metadata": {},
     "output_type": "execute_result"
    }
   ],
   "source": [
    "abs_value"
   ]
  },
  {
   "cell_type": "markdown",
   "id": "993164a7-b4d2-4599-a7be-774e41bde15d",
   "metadata": {},
   "source": [
    "### Exercise 41:\n",
    "Assign the result of a floor division `100 // 6` to a variable `floor_div_result`.\n",
    "\n",
    "```python\n",
    "# Exercise 41\n",
    "```\n",
    "\n",
    "---"
   ]
  },
  {
   "cell_type": "code",
   "execution_count": 109,
   "id": "a7f46859-7b8c-4207-9f3f-bd5263be0e7e",
   "metadata": {},
   "outputs": [],
   "source": [
    "floor_div_result = 100//6"
   ]
  },
  {
   "cell_type": "code",
   "execution_count": 110,
   "id": "7c966430-51b4-4bd4-aa77-aadcfd31cdf7",
   "metadata": {},
   "outputs": [
    {
     "data": {
      "text/plain": [
       "16"
      ]
     },
     "execution_count": 110,
     "metadata": {},
     "output_type": "execute_result"
    }
   ],
   "source": [
    "floor_div_result "
   ]
  },
  {
   "cell_type": "markdown",
   "id": "72a5e585-f796-43a5-83ab-7455b815556b",
   "metadata": {},
   "source": [
    "### Exercise 42:\n",
    "Assign the result of adding a floating-point number to an integer to a variable `mixed_sum`.\n",
    "\n",
    "```python\n",
    "# Exercise 42\n",
    "```\n",
    "\n",
    "---"
   ]
  },
  {
   "cell_type": "code",
   "execution_count": 111,
   "id": "d1b58ba9-5397-45b4-9fd1-05d7377ba3ef",
   "metadata": {},
   "outputs": [],
   "source": [
    "mixed_sum = 21.75 + 12"
   ]
  },
  {
   "cell_type": "code",
   "execution_count": 112,
   "id": "0688e180-b170-47f9-9f1c-c05d1120c80d",
   "metadata": {},
   "outputs": [
    {
     "data": {
      "text/plain": [
       "33.75"
      ]
     },
     "execution_count": 112,
     "metadata": {},
     "output_type": "execute_result"
    }
   ],
   "source": [
    "mixed_sum"
   ]
  },
  {
   "cell_type": "markdown",
   "id": "f8f69cee-c8a1-4b3b-905e-7fb35a294347",
   "metadata": {},
   "source": [
    "### Exercise 43:\n",
    "Assign a boolean value based on the comparison of two variables `a = 10` and `b = 15`.\n",
    "\n",
    "```python\n",
    "# Exercise 43\n",
    "```\n",
    "\n",
    "---"
   ]
  },
  {
   "cell_type": "code",
   "execution_count": 115,
   "id": "2a999ee6-9e19-4323-b60d-ca7c27fad8e0",
   "metadata": {},
   "outputs": [],
   "source": [
    "a = 10\n",
    "b = 15\n",
    "var_y = (a<b)"
   ]
  },
  {
   "cell_type": "code",
   "execution_count": 116,
   "id": "afeaec62-dbb8-4469-bc14-286d266477a3",
   "metadata": {},
   "outputs": [
    {
     "data": {
      "text/plain": [
       "True"
      ]
     },
     "execution_count": 116,
     "metadata": {},
     "output_type": "execute_result"
    }
   ],
   "source": [
    "var_y"
   ]
  },
  {
   "cell_type": "markdown",
   "id": "8b4835bb-541a-413f-96de-573dd0ae2913",
   "metadata": {},
   "source": [
    "### Exercise 44:\n",
    "Assign a long sentence to a variable and count its characters using `len()`.\n",
    "\n",
    "```python\n",
    "# Exercise 44\n",
    "```\n",
    "\n",
    "---"
   ]
  },
  {
   "cell_type": "code",
   "execution_count": 117,
   "id": "d429a82a-58f8-4ff7-9b5f-af9f58b756cb",
   "metadata": {},
   "outputs": [],
   "source": [
    "sentece = \"Assign a long sentence to a variable and count its characters using \""
   ]
  },
  {
   "cell_type": "markdown",
   "id": "94105b25-0685-44e6-a1d7-e0142ff9ad35",
   "metadata": {},
   "source": [
    "### Exercise 45:\n",
    "Assign a fractional result `7 / 3` to a variable `division_result`.\n",
    "\n",
    "```python\n",
    "# Exercise 45\n",
    "```\n",
    "\n",
    "---"
   ]
  },
  {
   "cell_type": "code",
   "execution_count": 118,
   "id": "e93919d3-21c7-4ca4-8be8-643433669013",
   "metadata": {},
   "outputs": [
    {
     "data": {
      "text/plain": [
       "2.3333333333333335"
      ]
     },
     "execution_count": 118,
     "metadata": {},
     "output_type": "execute_result"
    }
   ],
   "source": [
    "division_result = 7/3\n",
    "\n",
    "division_result"
   ]
  },
  {
   "cell_type": "markdown",
   "id": "e96888fb-c8b0-44fa-af7b-a92ee9e3df89",
   "metadata": {},
   "source": [
    "### Exercise 46:\n",
    "Create a variable `speed` and assign it the value of 100 kilometers per hour.\n",
    "\n",
    "```python\n",
    "# Exercise 46\n",
    "```\n",
    "\n",
    "---"
   ]
  },
  {
   "cell_type": "code",
   "execution_count": 119,
   "id": "8979dacc-f31f-4118-b929-e9f1876f72f5",
   "metadata": {},
   "outputs": [],
   "source": [
    "speed = 100 "
   ]
  },
  {
   "cell_type": "markdown",
   "id": "9bc5436f-fdc3-4b6c-81c3-5fac9ad0c819",
   "metadata": {},
   "source": [
    "### Exercise 47:\n",
    "Assign a multi-variable equation like `y = 3x + 5` where `x = 4` to a variable `y`.\n",
    "\n",
    "```python\n",
    "# Exercise 47\n",
    "```\n",
    "\n",
    "---"
   ]
  },
  {
   "cell_type": "raw",
   "id": "5e442fa0-40f1-4fab-9cfc-746d48996d82",
   "metadata": {},
   "source": [
    "y  = 3x + 5 where x = 4"
   ]
  },
  {
   "cell_type": "code",
   "execution_count": 124,
   "id": "b296c3e8-ba57-48c5-9965-ebe6c20fbf79",
   "metadata": {},
   "outputs": [
    {
     "data": {
      "text/plain": [
       "25"
      ]
     },
     "execution_count": 124,
     "metadata": {},
     "output_type": "execute_result"
    }
   ],
   "source": [
    "y"
   ]
  },
  {
   "cell_type": "markdown",
   "id": "e9812d07-87e3-4dd0-9dd8-ee758a01280d",
   "metadata": {},
   "source": [
    "### Exercise 48:\n",
    "Use variables to calculate and store the average of three numbers.\n",
    "\n",
    "```python\n",
    "# Exercise 48\n",
    "```\n",
    "\n",
    "****"
   ]
  },
  {
   "cell_type": "code",
   "execution_count": 125,
   "id": "466d95bb-547e-4ebc-bfd8-6bf2bfa45182",
   "metadata": {},
   "outputs": [],
   "source": [
    "average = ((12 + 4+2)/3)"
   ]
  },
  {
   "cell_type": "code",
   "execution_count": 126,
   "id": "bba9d390-53cf-4693-9a6f-b8b2ba0c06b5",
   "metadata": {},
   "outputs": [
    {
     "data": {
      "text/plain": [
       "6.0"
      ]
     },
     "execution_count": 126,
     "metadata": {},
     "output_type": "execute_result"
    }
   ],
   "source": [
    "average"
   ]
  },
  {
   "cell_type": "code",
   "execution_count": null,
   "id": "1c5d074e-c8c0-498c-b0ca-a15f7640ff9d",
   "metadata": {},
   "outputs": [],
   "source": []
  },
  {
   "cell_type": "code",
   "execution_count": null,
   "id": "62b50d7a-e0ab-4189-a7e4-3711b5cca316",
   "metadata": {},
   "outputs": [],
   "source": []
  },
  {
   "cell_type": "code",
   "execution_count": 130,
   "id": "7d834eb6-895b-402f-9544-db1c9c79a452",
   "metadata": {},
   "outputs": [
    {
     "data": {
      "text/plain": [
       "6"
      ]
     },
     "execution_count": 130,
     "metadata": {},
     "output_type": "execute_result"
    }
   ],
   "source": [
    "import statistics\n",
    "\n",
    "average = statistics.mean([12,4,2])\n",
    "average"
   ]
  },
  {
   "cell_type": "code",
   "execution_count": null,
   "id": "e238e59e-f0aa-48c6-8883-0e23fed64ebe",
   "metadata": {},
   "outputs": [],
   "source": []
  }
 ],
 "metadata": {
  "kernelspec": {
   "display_name": "Python [conda env:base] *",
   "language": "python",
   "name": "conda-base-py"
  },
  "language_info": {
   "codemirror_mode": {
    "name": "ipython",
    "version": 3
   },
   "file_extension": ".py",
   "mimetype": "text/x-python",
   "name": "python",
   "nbconvert_exporter": "python",
   "pygments_lexer": "ipython3",
   "version": "3.12.7"
  }
 },
 "nbformat": 4,
 "nbformat_minor": 5
}

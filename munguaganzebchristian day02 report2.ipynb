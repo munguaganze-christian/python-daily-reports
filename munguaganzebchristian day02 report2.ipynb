{
 "cells": [
  {
   "cell_type": "markdown",
   "id": "71eba6fd-8135-4fe2-b563-692dda774cc5",
   "metadata": {},
   "source": [
    "# Practical_2: String and files"
   ]
  },
  {
   "cell_type": "markdown",
   "id": "bf4804d0-5087-4f77-998c-4d182bf126f6",
   "metadata": {},
   "source": [
    "---\n",
    "\n",
    "### Exercise 1:\n",
    "Create a string variable `text` and assign it the value `\"Python is amazing!\"`.\n",
    "\n",
    "```python\n",
    "# Exercise 1\n",
    "```\n",
    "\n",
    "---"
   ]
  },
  {
   "cell_type": "code",
   "execution_count": 3,
   "id": "d79b6ce0-1144-4d64-b4c0-1ccac1335f7c",
   "metadata": {},
   "outputs": [],
   "source": [
    "text = \"Python is amazing !\""
   ]
  },
  {
   "cell_type": "markdown",
   "id": "b527c1b1-1f64-4aa3-b90f-2387b5a7ffad",
   "metadata": {},
   "source": [
    "### Exercise 2:\n",
    "Find the length of the string `\"Hello, World!\"` and store it in a variable `length`.\n",
    "\n",
    "```python\n",
    "# Exercise 2\n",
    "```\n",
    "\n",
    "---"
   ]
  },
  {
   "cell_type": "code",
   "execution_count": 7,
   "id": "a8eb245e-81b6-4553-aec4-147c7ee848b3",
   "metadata": {},
   "outputs": [
    {
     "name": "stdout",
     "output_type": "stream",
     "text": [
      "13\n"
     ]
    }
   ],
   "source": [
    "my_str = \"Hello, World!\"\n",
    "print(len(my_str))"
   ]
  },
  {
   "cell_type": "markdown",
   "id": "9de20b47-804b-470c-9793-23371b491cf2",
   "metadata": {},
   "source": [
    "### Exercise 3:\n",
    "Convert the string `\"python programming\"` to uppercase and store it in a variable `upper_text`.\n",
    "\n",
    "```python\n",
    "# Exercise 3\n",
    "```\n",
    "\n",
    "---"
   ]
  },
  {
   "cell_type": "code",
   "execution_count": 12,
   "id": "d88bb356-5a94-48a8-9bd7-172aa1a58e17",
   "metadata": {},
   "outputs": [
    {
     "data": {
      "text/plain": [
       "'PYTHON PROGRAMMING'"
      ]
     },
     "execution_count": 12,
     "metadata": {},
     "output_type": "execute_result"
    }
   ],
   "source": [
    "upper_text ='python programming'.upper()\n",
    "upper_text"
   ]
  },
  {
   "cell_type": "markdown",
   "id": "4983ecf6-9271-44b9-8086-7a0b001c6af8",
   "metadata": {},
   "source": [
    "### Exercise 4:\n",
    "Extract the first 5 characters from the string `\"Artificial Intelligence\"`.\n",
    "\n",
    "```python\n",
    "# Exercise 4\n",
    "```\n",
    "\n",
    "---\n"
   ]
  },
  {
   "cell_type": "code",
   "execution_count": 17,
   "id": "5bc2ff5c-3bcd-4b18-b493-10a376e3527c",
   "metadata": {},
   "outputs": [
    {
     "data": {
      "text/plain": [
       "'Artif'"
      ]
     },
     "execution_count": 17,
     "metadata": {},
     "output_type": "execute_result"
    }
   ],
   "source": [
    "my_str = \"Artificial Intelligence\"\n",
    "firstè_five = my_str[:5]\n",
    "\n",
    "firstè_five"
   ]
  },
  {
   "cell_type": "markdown",
   "id": "da53760b-3d93-4c36-9a40-322f8bb8d1b1",
   "metadata": {},
   "source": [
    "### Exercise 5:\n",
    "Concatenate the strings `\"Hello\"` and `\"World\"` with a space in between.\n",
    "\n",
    "```python\n",
    "# Exercise 5\n",
    "```\n",
    "\n",
    "---"
   ]
  },
  {
   "cell_type": "code",
   "execution_count": 19,
   "id": "bf3a14c3-aa8f-4e51-82c4-414e2ed7b13f",
   "metadata": {},
   "outputs": [
    {
     "data": {
      "text/plain": [
       "'Hello World'"
      ]
     },
     "execution_count": 19,
     "metadata": {},
     "output_type": "execute_result"
    }
   ],
   "source": [
    "var_1 = \"Hello\" +\" \"+ \"World\"\n",
    "var_1"
   ]
  },
  {
   "cell_type": "markdown",
   "id": "246dd307-b255-4317-ab97-7fe93a6a236c",
   "metadata": {},
   "source": [
    "### Exercise 6:\n",
    "Replace the word `\"dog\"` with `\"cat\"` in the string `\"The quick brown dog jumps over the lazy dog.\"`.\n",
    "\n",
    "```python\n",
    "# Exercise 6\n",
    "```\n",
    "\n",
    "---"
   ]
  },
  {
   "cell_type": "code",
   "execution_count": 41,
   "id": "7d0d4fc6-3e7e-4d93-944b-e9d36f80f21f",
   "metadata": {},
   "outputs": [
    {
     "name": "stdout",
     "output_type": "stream",
     "text": [
      "The quick brown dog jumps over the lazy dog.\n",
      "The quick brown cat jumps over the lazy cat.\n"
     ]
    }
   ],
   "source": [
    "my_str1 = \"The quick brown dog jumps over the lazy dog.\"\n",
    "\n",
    "print(my_str1)\n",
    "my_str2 = my_str1.replace(\"dog\", \"cat\")\n",
    "\n",
    "print(my_str2)\n"
   ]
  },
  {
   "cell_type": "markdown",
   "id": "0c82769f-609c-49d4-b571-7f7585099611",
   "metadata": {},
   "source": [
    "### Exercise 7:\n",
    "Split the string `\"apple,banana,orange\"` by commas and store the result in a list `fruits_list`.\n",
    "\n",
    "```python\n",
    "# Exercise 7\n",
    "```\n",
    "\n",
    "---"
   ]
  },
  {
   "cell_type": "code",
   "execution_count": 24,
   "id": "970de455-c309-4027-85b8-beff3b503280",
   "metadata": {},
   "outputs": [
    {
     "data": {
      "text/plain": [
       "['apple', ' banana', ' orange']"
      ]
     },
     "execution_count": 24,
     "metadata": {},
     "output_type": "execute_result"
    }
   ],
   "source": [
    "str_1 =\"apple, banana, orange\"\n",
    "fruits_list = str_1.split(',')\n",
    "fruits_list"
   ]
  },
  {
   "cell_type": "markdown",
   "id": "f7937320-5791-4aa6-bbda-c7334f977402",
   "metadata": {},
   "source": [
    "### Exercise 8:\n",
    "Use string formatting to create the sentence `\"My name is Alice and I am 25 years old.\"`, where the name and age are variables.\n",
    "\n",
    "```python\n",
    "# Exercise 8\n",
    "```\n",
    "\n",
    "---"
   ]
  },
  {
   "cell_type": "code",
   "execution_count": 34,
   "id": "61a015ee-f714-475a-bec5-f8b83e94491d",
   "metadata": {},
   "outputs": [
    {
     "name": "stdout",
     "output_type": "stream",
     "text": [
      "My name is Alice and I am 25 years old\n"
     ]
    }
   ],
   "source": [
    "name = \"Alice\"\n",
    "age = 25\n",
    "\n",
    "print(f\"My name is {name} and I am {age} years old\")"
   ]
  },
  {
   "cell_type": "code",
   "execution_count": 38,
   "id": "a4790644-e07f-47ea-8e38-3ad776f341a4",
   "metadata": {},
   "outputs": [
    {
     "name": "stdout",
     "output_type": "stream",
     "text": [
      "My name is Alice and I am  25 years old\n"
     ]
    }
   ],
   "source": [
    "print(\"My name is\",name,\"and I am \",age, \"years old\",)"
   ]
  },
  {
   "cell_type": "markdown",
   "id": "0f56865b-505f-432e-891c-fb7d14b458db",
   "metadata": {},
   "source": [
    "### Exercise 9:\n",
    "Check if the string `\"python\"` is present in the sentence `\"I love python programming\"`.\n",
    "\n",
    "```python\n",
    "# Exercise 9\n",
    "```\n",
    "\n",
    "---"
   ]
  },
  {
   "cell_type": "code",
   "execution_count": 45,
   "id": "d77bd5be-15e9-4c0d-af82-7f34bff9bd54",
   "metadata": {},
   "outputs": [
    {
     "data": {
      "text/plain": [
       "True"
      ]
     },
     "execution_count": 45,
     "metadata": {},
     "output_type": "execute_result"
    }
   ],
   "source": [
    "my_str = \"I love python programming\"\n",
    "word = \"python\"\n",
    "\n",
    "answer = word in my_str\n",
    "answer"
   ]
  },
  {
   "cell_type": "code",
   "execution_count": 51,
   "id": "7abfb2c5-2e60-483e-8f76-26610ca407a0",
   "metadata": {},
   "outputs": [
    {
     "data": {
      "text/plain": [
       "True"
      ]
     },
     "execution_count": 51,
     "metadata": {},
     "output_type": "execute_result"
    }
   ],
   "source": [
    "my_str = \"I love python programming\"\n",
    "answer = \"python\" in my_str\n",
    "answer"
   ]
  },
  {
   "cell_type": "code",
   "execution_count": 52,
   "id": "fc6a32b0-5837-49f7-ab0c-9e3980465bd7",
   "metadata": {},
   "outputs": [
    {
     "name": "stdout",
     "output_type": "stream",
     "text": [
      "True\n"
     ]
    }
   ],
   "source": [
    "print(\"python\" in \"I love python programming\")"
   ]
  },
  {
   "cell_type": "markdown",
   "id": "c4b82d25-40ad-41ad-b4fb-bf6e4b9ae60d",
   "metadata": {},
   "source": [
    "### Exercise 10:\n",
    "Count the number of occurrences of the letter `\"e\"` in the string `\"Elephant is an elegant animal\"`.\n",
    "\n",
    "```python\n",
    "# Exercise 10\n",
    "```\n",
    "\n",
    "---"
   ]
  },
  {
   "cell_type": "code",
   "execution_count": 48,
   "id": "446dcefc-7e42-40b2-9b88-03d04bc9adcc",
   "metadata": {},
   "outputs": [
    {
     "name": "stdout",
     "output_type": "stream",
     "text": [
      "3\n"
     ]
    }
   ],
   "source": [
    "sentence = \"Elephant is an elegant animal\"\n",
    "\n",
    "number_of_e = sentence.count(\"e\")\n",
    "\n",
    "print(number_of_e)"
   ]
  },
  {
   "cell_type": "markdown",
   "id": "765270d2-339a-4b04-8bbe-1c9d70c07699",
   "metadata": {},
   "source": [
    "### Exercise 11:\n",
    "Remove any leading and trailing spaces from the string `\"   Data Science   \"`.\n",
    "\n",
    "```python\n",
    "# Exercise 11\n",
    "```\n",
    "\n",
    "---"
   ]
  },
  {
   "cell_type": "code",
   "execution_count": 50,
   "id": "f2c137a3-b78f-4243-9045-a46ae8c3e654",
   "metadata": {},
   "outputs": [
    {
     "name": "stdout",
     "output_type": "stream",
     "text": [
      "   Data Science   \n",
      "Data Science\n",
      "Data Science\n"
     ]
    }
   ],
   "source": [
    "str_1 = \"   Data Science   \"\n",
    "\n",
    "str_2 = str_1.strip()\n",
    "print(str_1)\n",
    "print(str_2)"
   ]
  },
  {
   "cell_type": "markdown",
   "id": "6a9cc82d-5a83-41fa-ab02-ede4b70cfc04",
   "metadata": {},
   "source": [
    "### Exercise 12:\n",
    "Convert the string `\"100\"` into an integer and store it in a variable `int_value`.\n",
    "\n",
    "```python\n",
    "# Exercise 12\n",
    "```\n",
    "\n",
    "---"
   ]
  },
  {
   "cell_type": "code",
   "execution_count": 57,
   "id": "5d15afbc-2638-4482-b749-141aaa1c9f50",
   "metadata": {},
   "outputs": [
    {
     "data": {
      "text/plain": [
       "int"
      ]
     },
     "execution_count": 57,
     "metadata": {},
     "output_type": "execute_result"
    }
   ],
   "source": [
    "int_value = int(\"100\")\n",
    "type(int_value)"
   ]
  },
  {
   "cell_type": "markdown",
   "id": "02bc55c3-6b30-44f4-be7a-b302405ebe78",
   "metadata": {},
   "source": [
    "### Exercise 13:\n",
    "Extract the substring `\"pro\"` from the string `\"programming\"`.\n",
    "\n",
    "```python\n",
    "# Exercise 13\n",
    "```\n",
    "\n",
    "---\n"
   ]
  },
  {
   "cell_type": "code",
   "execution_count": 61,
   "id": "b6177d74-4e5a-42a5-91b2-4f382e01a06e",
   "metadata": {},
   "outputs": [
    {
     "data": {
      "text/plain": [
       "'pro'"
      ]
     },
     "execution_count": 61,
     "metadata": {},
     "output_type": "execute_result"
    }
   ],
   "source": [
    "stri = \"programming\"\n",
    "pro = stri[:3] \n",
    "pro"
   ]
  },
  {
   "cell_type": "code",
   "execution_count": 62,
   "id": "a385160e-ceec-4ee9-892d-e4cc7e37e569",
   "metadata": {},
   "outputs": [
    {
     "name": "stdout",
     "output_type": "stream",
     "text": [
      "pro\n"
     ]
    }
   ],
   "source": [
    "stri = \"programming\"\n",
    "print(stri[:3])"
   ]
  },
  {
   "cell_type": "markdown",
   "id": "ae12e952-999f-412a-a1b5-a3a202228303",
   "metadata": {},
   "source": [
    "### Exercise 14:\n",
    "Check if the string `\"data\"` starts with `\"da\"` and ends with `\"ta\"`.\n",
    "\n",
    "```python\n",
    "# Exercise 14\n",
    "```\n",
    "\n",
    "---"
   ]
  },
  {
   "cell_type": "code",
   "execution_count": 71,
   "id": "b3904182-aa10-4be0-8475-a7874ed67236",
   "metadata": {},
   "outputs": [
    {
     "name": "stdout",
     "output_type": "stream",
     "text": [
      "data starts with 'da'? True\n",
      "data ends with 'ta'? True\n"
     ]
    }
   ],
   "source": [
    "data = \"data\"\n",
    "\n",
    "print(\"data starts with 'da'?\",data.startswith(\"da\"))\n",
    "\n",
    "print(\"data ends with 'ta'?\",data.endswith(\"ta\"))"
   ]
  },
  {
   "cell_type": "markdown",
   "id": "c29b3276-8f97-4bd2-ba26-1e460d1d4d60",
   "metadata": {},
   "source": [
    "### Exercise 15:\n",
    "Reverse the string `\"machine learning\"` and store the result in `reversed_text`.\n",
    "\n",
    "```python\n",
    "# Exercise 15\n",
    "```\n",
    "\n",
    "---"
   ]
  },
  {
   "cell_type": "code",
   "execution_count": 74,
   "id": "462d9e0d-6197-42e4-9060-544669bb2182",
   "metadata": {},
   "outputs": [
    {
     "data": {
      "text/plain": [
       "'gninrael enihcam'"
      ]
     },
     "execution_count": 74,
     "metadata": {},
     "output_type": "execute_result"
    }
   ],
   "source": [
    "text = \"machine learning\"\n",
    "\n",
    "reversed_text = text[::-1]\n",
    "reversed_text "
   ]
  },
  {
   "cell_type": "markdown",
   "id": "ac64ae72-ef5c-43dd-9b31-3090c0089015",
   "metadata": {},
   "source": [
    "### Exercise 16:\n",
    "Convert the first letter of each word in the string `\"machine learning is fun\"` to uppercase.\n",
    "\n",
    "```python\n",
    "# Exercise 16\n",
    "```\n",
    "\n",
    "---"
   ]
  },
  {
   "cell_type": "code",
   "execution_count": 84,
   "id": "2663e671-8e94-4f12-8fc4-302b893c23ea",
   "metadata": {},
   "outputs": [
    {
     "name": "stdout",
     "output_type": "stream",
     "text": [
      "machine learning is fun\n",
      "Machine Learning Is Fun\n"
     ]
    }
   ],
   "source": [
    "text1 = \"machine learning is fun\"\n",
    "print(text1)\n",
    "#text2 = text1.capitalize()\n",
    "text2 = text1.title()\n",
    "print(text2)"
   ]
  },
  {
   "cell_type": "markdown",
   "id": "497aa458-333f-4b4f-95f8-4dd090eb4f08",
   "metadata": {},
   "source": [
    "### Exercise 17:\n",
    "Create a multiline string representing a poem and store it in a variable `poem`.\n",
    "\n",
    "```python\n",
    "# Exercise 17\n",
    "```\n",
    "\n",
    "---"
   ]
  },
  {
   "cell_type": "code",
   "execution_count": 89,
   "id": "48451cf6-f516-4c4c-93fd-43c43bcf68dc",
   "metadata": {},
   "outputs": [
    {
     "name": "stdout",
     "output_type": "stream",
     "text": [
      "Two roads diverged in a yellow wood,\n",
      "And sorry I could not travel both\n",
      "And be one traveler, long I stood\n",
      "And looked down one as far as I could\n",
      "To where it bent in the undergrowth;\n",
      "Then took the other, as just as fair,\n",
      "And having perhaps the better claim,\n",
      "Because it was grassy and wanted wear;\n",
      "Though as for that the passing there\n",
      "Had worn them really about the same ...\n",
      "\n"
     ]
    }
   ],
   "source": [
    "poem ='''Two roads diverged in a yellow wood,\n",
    "And sorry I could not travel both\n",
    "And be one traveler, long I stood\n",
    "And looked down one as far as I could\n",
    "To where it bent in the undergrowth;\n",
    "Then took the other, as just as fair,\n",
    "And having perhaps the better claim,\n",
    "Because it was grassy and wanted wear;\n",
    "Though as for that the passing there\n",
    "Had worn them really about the same ...\n",
    "'''\n",
    "\n",
    "print(poem)"
   ]
  },
  {
   "cell_type": "markdown",
   "id": "112ea76e-a534-46a4-aab5-ab7eb83b4533",
   "metadata": {},
   "source": [
    "### Exercise 18:\n",
    "Write a string to a file named `\"output.txt\"`.\n",
    "\n",
    "```python\n",
    "# Exercise 18\n",
    "```\n",
    "\n",
    "---"
   ]
  },
  {
   "cell_type": "code",
   "execution_count": 92,
   "id": "4176fce7-923e-4b0d-8d05-588add88464d",
   "metadata": {},
   "outputs": [],
   "source": [
    "str_1 = \"Because it was grassy and wanted wear\"\n",
    "\n",
    "with open(\"output.txt\", 'w') as file:\n",
    "        file.write(str_1)"
   ]
  },
  {
   "cell_type": "markdown",
   "id": "5d0bf001-1bfc-4e23-b1ac-a7dd288db851",
   "metadata": {},
   "source": [
    "\n",
    "### Exercise 19:\n",
    "Read the contents of a file named `\"data.txt\"` and print it line by line.\n",
    "\n",
    "```python\n",
    "# Exercise 19\n",
    "```\n",
    "\n",
    "---"
   ]
  },
  {
   "cell_type": "code",
   "execution_count": 6,
   "id": "0fae87ff-c5a1-4566-b2a3-b448df125a24",
   "metadata": {},
   "outputs": [
    {
     "name": "stdout",
     "output_type": "stream",
     "text": [
      "File content  data.txt\n",
      "========================  \n",
      "\n",
      "Two roads diverged in a yellow wood,\n",
      "And sorry I could not travel both\n",
      "And be one traveler, long I stood\n",
      "And looked down one as far as I could\n",
      "To where it bent in the undergrowth;\n",
      "Then took the other, as just as fair,\n",
      "And having perhaps the better claim,\n",
      "Because it was grassy and wanted wear;\n",
      "Though as for that the passing there\n",
      "Had worn them really about the same ...\n"
     ]
    }
   ],
   "source": [
    "file_name = \"data.txt\"\n",
    "\n",
    "with open(file_name, 'r') as file:\n",
    "    print(\"File content \",file_name)\n",
    "    print(\"=\"*len(file_name)*3,\" \\n\")\n",
    "\n",
    "    for line in file:\n",
    "        print(line.strip()) # Strip() to delete the end line commande (\\n), \\t"
   ]
  },
  {
   "cell_type": "code",
   "execution_count": 8,
   "id": "a79de369-5435-4417-b748-8eff24ae8c67",
   "metadata": {},
   "outputs": [
    {
     "name": "stdout",
     "output_type": "stream",
     "text": [
      "File content  data.txt\n",
      "========================  \n",
      "\n",
      "Two roads diverged in a yellow wood,\n",
      "\n",
      "And sorry I could not travel both\n",
      "\n",
      "And be one traveler, long I stood\n",
      "\n",
      "And looked down one as far as I could\n",
      "\n",
      "To where it bent in the undergrowth;\n",
      "\n",
      "Then took the other, as just as fair,\n",
      "\n",
      "And having perhaps the better claim,\n",
      "\n",
      "Because it was grassy and wanted wear;\n",
      "\n",
      "Though as for that the passing there\n",
      "\n",
      "Had worn them really about the same ...\n",
      "\n"
     ]
    }
   ],
   "source": [
    "file_name = \"data.txt\"\n",
    "\n",
    "with open(file_name, 'r') as file:\n",
    "    print(\"File content \",file_name)\n",
    "    print(\"=\"*len(file_name)*3,\" \\n\")\n",
    "\n",
    "    for line in file:\n",
    "        print(line) # compare the difference between the first display, with strip() function"
   ]
  },
  {
   "cell_type": "markdown",
   "id": "217e31b2-5f6b-4f66-a63e-e531e5aa941a",
   "metadata": {},
   "source": [
    "### Exercise 20:\n",
    "Check if a file `\"example.txt\"` exists before opening it.\n",
    "\n",
    "```python\n",
    "# Exercise 20\n",
    "```\n",
    "\n",
    "---"
   ]
  },
  {
   "cell_type": "code",
   "execution_count": 13,
   "id": "49eb5a10-a077-4c32-a482-99ce06a8b0c9",
   "metadata": {},
   "outputs": [
    {
     "name": "stdout",
     "output_type": "stream",
     "text": [
      "The file example.txt does not exist\n"
     ]
    }
   ],
   "source": [
    "import os\n",
    "\n",
    "file_name = \"example.txt\"\n",
    "\n",
    "if os.path.exists(file_name):\n",
    "    print(f\"The file {file_name} exists :\")\n",
    "    \n",
    "    with open(file_name,\"r\") as file:\n",
    "        for line in file :\n",
    "            print(line.strip())\n",
    "else:\n",
    "    print(f\"The file {file_name} does not exist\")"
   ]
  },
  {
   "cell_type": "markdown",
   "id": "a7cbb21e-803e-479b-8b69-bc3d22608abf",
   "metadata": {},
   "source": [
    "### Exercise 21:\n",
    "Append a new line `\"This is a new line\"` to an existing file `\"notes.txt\"`.\n",
    "\n",
    "```python\n",
    "# Exercise 21\n",
    "```\n",
    "\n",
    "---"
   ]
  },
  {
   "cell_type": "code",
   "execution_count": 15,
   "id": "cffe6de2-a618-4769-b336-f2705ccb68d0",
   "metadata": {},
   "outputs": [
    {
     "name": "stdout",
     "output_type": "stream",
     "text": [
      "The file notes.txt does not exists ! \n",
      "Try again\n"
     ]
    }
   ],
   "source": [
    "file_name = \"notes.txt\"\n",
    "\n",
    "if os.path.exists(file_name):\n",
    "    with open(file_name, \"a\") as f:\n",
    "        f.write(\"\\n\" + \"This is a new line\")\n",
    "else:\n",
    "    print(f\"The file {file_name} does not exists ! \\nTry again\")"
   ]
  },
  {
   "cell_type": "markdown",
   "id": "d65b6d23-48dd-4af8-ba69-d8e9a81c679d",
   "metadata": {},
   "source": [
    "### Exercise 22:\n",
    "Read the contents of a file `\"log.txt\"` and store each line in a list `log_lines`.\n",
    "\n",
    "```python\n",
    "# Exercise 22\n",
    "```\n",
    "\n",
    "---"
   ]
  },
  {
   "cell_type": "code",
   "execution_count": 29,
   "id": "907d7b64-bc30-4362-9696-0f897faf8ff3",
   "metadata": {},
   "outputs": [
    {
     "name": "stdout",
     "output_type": "stream",
     "text": [
      "The '1' from 'data.txt' was read and stored.\n"
     ]
    }
   ],
   "source": [
    "file_name =\".txt\"\n",
    "\n",
    "log_lines = []\n",
    "\n",
    "if os.path.exists(file_name) : # to avoid error message\n",
    "\n",
    "    with open(file_name,\"r\") as f:\n",
    "        for line in f:\n",
    "            log_lines = [line]\n",
    "\n",
    "        print(f\"The '{len(log_lines)}' from '{file_name}' was read and stored.\")\n",
    "else:\n",
    "    print(f\"The file {file_name} does not exist\")"
   ]
  },
  {
   "cell_type": "markdown",
   "id": "72e44a12-518e-45ae-b9ec-0e37b471fdae",
   "metadata": {},
   "source": [
    "---\n",
    "\n",
    "### Exercise 23:\n",
    "Create a new file `\"report.txt\"` and write the string `\"Data analysis report\"` to it.\n",
    "\n",
    "```python\n",
    "# Exercise 23\n",
    "```\n",
    "\n",
    "---"
   ]
  },
  {
   "cell_type": "code",
   "execution_count": 30,
   "id": "5d450b38-11f1-45d7-8cdb-b20d149a1192",
   "metadata": {},
   "outputs": [],
   "source": [
    "file_name =\"report.txt\"\n",
    "\n",
    "with open(file_name, \"w+\") as f:\n",
    "    f.write(\"Data analysis report\")\n",
    "    f.close()"
   ]
  },
  {
   "cell_type": "code",
   "execution_count": 31,
   "id": "1750eb6c-3aba-4486-a65a-4d54f09ee05c",
   "metadata": {},
   "outputs": [],
   "source": [
    "file_name =\"report.txt\"\n",
    "with open(file_name, \"w\") as f:\n",
    "    f.write(\"Data analysis report\")\n",
    "    f.close()"
   ]
  },
  {
   "cell_type": "code",
   "execution_count": null,
   "id": "db9fd073-b653-4b90-8f84-3e25284799b6",
   "metadata": {},
   "outputs": [],
   "source": []
  }
 ],
 "metadata": {
  "kernelspec": {
   "display_name": "Python [conda env:base] *",
   "language": "python",
   "name": "conda-base-py"
  },
  "language_info": {
   "codemirror_mode": {
    "name": "ipython",
    "version": 3
   },
   "file_extension": ".py",
   "mimetype": "text/x-python",
   "name": "python",
   "nbconvert_exporter": "python",
   "pygments_lexer": "ipython3",
   "version": "3.12.7"
  }
 },
 "nbformat": 4,
 "nbformat_minor": 5
}
